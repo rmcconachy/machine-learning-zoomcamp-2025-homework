{
 "cells": [
  {
   "cell_type": "markdown",
   "id": "ef6d8970",
   "metadata": {},
   "source": [
    "## Homework 1: Introduction to Machine Learning"
   ]
  },
  {
   "cell_type": "code",
   "execution_count": 11,
   "id": "d424ae98",
   "metadata": {},
   "outputs": [],
   "source": [
    "import numpy as np\n",
    "import pandas as pd"
   ]
  },
  {
   "cell_type": "markdown",
   "id": "c073c667",
   "metadata": {},
   "source": [
    "### Question 1. Pandas version"
   ]
  },
  {
   "cell_type": "code",
   "execution_count": 12,
   "id": "bb6d70d5",
   "metadata": {},
   "outputs": [
    {
     "name": "stdout",
     "output_type": "stream",
     "text": [
      "2.3.1\n"
     ]
    }
   ],
   "source": [
    "print(pd.__version__)"
   ]
  },
  {
   "cell_type": "markdown",
   "id": "00a22cb4",
   "metadata": {},
   "source": [
    "### Question 2. Records count"
   ]
  },
  {
   "cell_type": "code",
   "execution_count": 13,
   "id": "f3fee0aa",
   "metadata": {},
   "outputs": [],
   "source": [
    "# Load the dataset\n",
    "url = \"https://raw.githubusercontent.com/alexeygrigorev/datasets/master/car_fuel_efficiency.csv\"\n",
    "df = pd.read_csv(url)"
   ]
  },
  {
   "cell_type": "code",
   "execution_count": 14,
   "id": "868c0ef8",
   "metadata": {},
   "outputs": [
    {
     "name": "stdout",
     "output_type": "stream",
     "text": [
      "First rows:\n",
      "   engine_displacement  num_cylinders  horsepower  vehicle_weight  \\\n",
      "0                  170            3.0       159.0     3413.433759   \n",
      "1                  130            5.0        97.0     3149.664934   \n",
      "2                  170            NaN        78.0     3079.038997   \n",
      "3                  220            4.0         NaN     2542.392402   \n",
      "4                  210            1.0       140.0     3460.870990   \n",
      "\n",
      "   acceleration  model_year  origin fuel_type         drivetrain  num_doors  \\\n",
      "0          17.7        2003  Europe  Gasoline    All-wheel drive        0.0   \n",
      "1          17.8        2007     USA  Gasoline  Front-wheel drive        0.0   \n",
      "2          15.1        2018  Europe  Gasoline  Front-wheel drive        0.0   \n",
      "3          20.2        2009     USA    Diesel    All-wheel drive        2.0   \n",
      "4          14.4        2009  Europe  Gasoline    All-wheel drive        2.0   \n",
      "\n",
      "   fuel_efficiency_mpg  \n",
      "0            13.231729  \n",
      "1            13.688217  \n",
      "2            14.246341  \n",
      "3            16.912736  \n",
      "4            12.488369  \n"
     ]
    }
   ],
   "source": [
    "# Display the first rows of the dataset for visual inspection\n",
    "print(\"First rows:\")\n",
    "print(df.head())"
   ]
  },
  {
   "cell_type": "code",
   "execution_count": 15,
   "id": "4bd4c8c1",
   "metadata": {},
   "outputs": [
    {
     "name": "stdout",
     "output_type": "stream",
     "text": [
      "Number of rows in the dataset: 9704\n"
     ]
    }
   ],
   "source": [
    "row_count = df.shape[0]\n",
    "print(\"Number of rows in the dataset:\", row_count)"
   ]
  },
  {
   "cell_type": "markdown",
   "id": "d0c1ff82",
   "metadata": {},
   "source": [
    "### Question 3. Fuel types"
   ]
  },
  {
   "cell_type": "code",
   "execution_count": 16,
   "id": "cb5dbbf6",
   "metadata": {},
   "outputs": [
    {
     "name": "stdout",
     "output_type": "stream",
     "text": [
      "Number of fuel types presented in the dataset: 2\n"
     ]
    }
   ],
   "source": [
    "num_unique_fuel_types = len(df['fuel_type'].unique())\n",
    "print(\"Number of fuel types presented in the dataset:\", num_unique_fuel_types)"
   ]
  },
  {
   "cell_type": "markdown",
   "id": "e167a84b",
   "metadata": {},
   "source": [
    "### Question 4. Missing values"
   ]
  },
  {
   "cell_type": "code",
   "execution_count": 17,
   "id": "5c0e726a",
   "metadata": {},
   "outputs": [
    {
     "name": "stdout",
     "output_type": "stream",
     "text": [
      "The number of columns with missing values is: 4\n"
     ]
    }
   ],
   "source": [
    "# How many columns in the dataset have missing values?\n",
    "\n",
    "# Count the number of missing values in each column\n",
    "missing_counts = df.isnull().sum()\n",
    "\n",
    "# Filter for columns that have at least one missing value\n",
    "columns_with_missing = missing_counts[missing_counts > 0]\n",
    "\n",
    "# Get the count of such columns\n",
    "num_columns_with_missing = len(columns_with_missing)\n",
    "\n",
    "print(\"The number of columns with missing values is:\", num_columns_with_missing)"
   ]
  },
  {
   "cell_type": "markdown",
   "id": "20502966",
   "metadata": {},
   "source": [
    "### Question 5. Max fuel efficiency"
   ]
  },
  {
   "cell_type": "code",
   "execution_count": 18,
   "id": "9ef40165",
   "metadata": {},
   "outputs": [
    {
     "name": "stdout",
     "output_type": "stream",
     "text": [
      "Maximum fuel efficiency of cars from Asia: 23.759122836520497\n"
     ]
    }
   ],
   "source": [
    "# What's the maximum fuel efficiency of cars from Asia?\n",
    "df_asian_cars = df[df['origin'] == 'Asia']\n",
    "max_fuel_efficiency = df_asian_cars['fuel_efficiency_mpg'].max()\n",
    "print(\"Maximum fuel efficiency of cars from Asia:\", max_fuel_efficiency)"
   ]
  },
  {
   "cell_type": "markdown",
   "id": "3b713d0e",
   "metadata": {},
   "source": [
    "### Question 6. Median value of horsepower"
   ]
  },
  {
   "cell_type": "code",
   "execution_count": 19,
   "id": "2e517004",
   "metadata": {},
   "outputs": [
    {
     "name": "stdout",
     "output_type": "stream",
     "text": [
      "Median value of the horsepower column in the dataset: 149.0\n",
      "Most frequent value of the same horsepower column: 152.0\n",
      "Median value of the filled horsepower column in the dataset: 152.0\n"
     ]
    }
   ],
   "source": [
    "# 1. Find the median value of the horsepower column in the dataset.\n",
    "median_horsepower = df['horsepower'].median()\n",
    "print(\"Median value of the horsepower column in the dataset:\", median_horsepower)\n",
    "\n",
    "# 2. Next, calculate the most frequent value of the same horsepower column.\n",
    "mode_horsepower = df['horsepower'].mode()[0]\n",
    "print(\"Most frequent value of the same horsepower column:\", mode_horsepower)\n",
    "\n",
    "# 3. Use the fillna method to fill the missing values in the horsepower column with the most frequent value from the previous step.\n",
    "df_horsepower_filled = df\n",
    "df_horsepower_filled['horsepower'] = df['horsepower'].fillna(mode_horsepower)\n",
    "\n",
    "# 4. Now, calculate the median value of horsepower once again.\n",
    "median_horsepower_filled = df_horsepower_filled['horsepower'].median()\n",
    "print(\"Median value of the filled horsepower column in the dataset:\", median_horsepower_filled)"
   ]
  },
  {
   "cell_type": "markdown",
   "id": "b4ac4150",
   "metadata": {},
   "source": [
    "### Question 7. Sum of weights"
   ]
  },
  {
   "cell_type": "code",
   "execution_count": 20,
   "id": "7a28a4be",
   "metadata": {},
   "outputs": [
    {
     "name": "stdout",
     "output_type": "stream",
     "text": [
      "Sum of all the elements of the result: 0.5187709081074016\n"
     ]
    }
   ],
   "source": [
    "# 1. Select all the cars from Asia\n",
    "df_asian_cars # defined previously in Question 5\n",
    "\n",
    "# 2. Select only columns vehicle_weight and model_year\n",
    "df_asian_cars_vehicle_weights_model_year = df_asian_cars[['vehicle_weight', 'model_year']]\n",
    "\n",
    "# 3. Select the first 7 values\n",
    "#print(df_asian_cars_vehicle_weights_model_year.head(7))\n",
    "\n",
    "# 4. Get the underlying NumPy array. Let's call it X.\n",
    "X = df_asian_cars_vehicle_weights_model_year.head(7).to_numpy()\n",
    "#print(X)\n",
    "\n",
    "# 5. Compute matrix-matrix multiplication between the transpose of X and X. To get the transpose, use X.T. Let's call the result XTX.\n",
    "transposed_X = X.T\n",
    "#print(transposed_X)\n",
    "XTX = np.matmul(transposed_X, X)\n",
    "#print(XTX)\n",
    "\n",
    "# 6. Invert XTX.\n",
    "inverse_XTX = np.linalg.inv(XTX)\n",
    "#print(inverse_XTX)\n",
    "\n",
    "# 7. Create an array y with values [1100, 1300, 800, 900, 1000, 1100, 1200].\n",
    "y = np.array([1100, 1300, 800, 900, 1000, 1100, 1200])\n",
    "\n",
    "# 8. Multiply the inverse of XTX with the transpose of X, and then multiply the result by y. Call the result w.\n",
    "w = np.matmul(np.matmul(inverse_XTX, transposed_X), y)\n",
    "#print(w)\n",
    "\n",
    "# 9. What's the sum of all the elements of the result?\n",
    "print(\"Sum of all the elements of the result:\", np.sum(w))"
   ]
  }
 ],
 "metadata": {
  "kernelspec": {
   "display_name": "Python 3",
   "language": "python",
   "name": "python3"
  },
  "language_info": {
   "codemirror_mode": {
    "name": "ipython",
    "version": 3
   },
   "file_extension": ".py",
   "mimetype": "text/x-python",
   "name": "python",
   "nbconvert_exporter": "python",
   "pygments_lexer": "ipython3",
   "version": "3.12.1"
  }
 },
 "nbformat": 4,
 "nbformat_minor": 5
}
